{
  "metadata": {
    "kernelspec": {
      "name": "xpython",
      "display_name": "Python 3.13 (XPython)",
      "language": "python"
    },
    "language_info": {
      "file_extension": ".py",
      "mimetype": "text/x-python",
      "name": "python",
      "version": "3.13.1"
    },
    "colab": {
      "provenance": [],
      "include_colab_link": true
    }
  },
  "nbformat_minor": 5,
  "nbformat": 4,
  "cells": [
    {
      "cell_type": "markdown",
      "metadata": {
        "id": "view-in-github",
        "colab_type": "text"
      },
      "source": [
        "<a href=\"https://colab.research.google.com/github/Aech-7/Machine-learning-test/blob/main/ML_prequisite_text_23110154.ipynb\" target=\"_parent\"><img src=\"https://colab.research.google.com/assets/colab-badge.svg\" alt=\"Open In Colab\"/></a>"
      ]
    },
    {
      "id": "0ded7219-c815-4053-8467-7a04c784a3f6",
      "cell_type": "markdown",
      "source": [
        "## **Question1:**  \n",
        "**How many multiplications and additions do you need to perform a matrix multiplication between a (n, k) and (k, m) matrix? Explain.**"
      ],
      "metadata": {
        "id": "0ded7219-c815-4053-8467-7a04c784a3f6"
      }
    },
    {
      "id": "fbac547c-f50f-43ae-bd19-5413de1528d3",
      "cell_type": "markdown",
      "source": [
        "Assume matrix is A of size (n,k) and a matrix B of size (k,m). If we perform a matrix multiplication we get a matrix, lets call it C with size (m,n).\n",
        "To find the element at position (1,1) in matrix **C**, we will need to multiply each element in first row of matrix A with its corresponding element in first column of matrix B and then add. This steps results in k multiplications, since matrix A has k elements in each row and (k-1) additions. This gave us just one element of Matrix **C**. <br>\n",
        "**Step 1:** **k** multiplications and **(k-1)** additions. <br>\n",
        "To find all the elements in $1{st}$ column of Matrix **C**, we will need to perform the first step n times since Matrix C has n rows.<br>\n",
        "**Step 2:** **nk** multiplications and **n(k-1)** additions.<br>\n",
        "And we have m such columns, so we need to repeat the step 2, **m** times, that gives us **mnk** muliplications and **mn(k-1)** additions.<br>\n",
        "### **Final Answer:** **$m \\times n \\times k$** Multiplications and **$ m \\times n \\times (k-1)$** Additions\n",
        "----"
      ],
      "metadata": {
        "id": "fbac547c-f50f-43ae-bd19-5413de1528d3"
      }
    },
    {
      "id": "26082562-42c4-4419-83ec-357786e0b9ff",
      "cell_type": "markdown",
      "source": [
        "## **Question 2:**\n",
        "**Write Python code to multiply the above two matrices. Solve using list of lists and then use numpy. Compare the timing of both solutions. Which one is faster? Why?**"
      ],
      "metadata": {
        "id": "26082562-42c4-4419-83ec-357786e0b9ff"
      }
    },
    {
      "id": "b808d015-fcb2-4362-92e2-c97f889e676d",
      "cell_type": "markdown",
      "source": [
        "Let's make 2 matrices with size (3,4) and (4,2):"
      ],
      "metadata": {
        "id": "b808d015-fcb2-4362-92e2-c97f889e676d"
      }
    },
    {
      "id": "687bfa63-88c5-4b17-bbb9-44ea50eabfad",
      "cell_type": "code",
      "source": [
        "A = [[i for i in range(4)] for j in range(3)]\n",
        "print('Matrix A=',A)"
      ],
      "metadata": {
        "trusted": true,
        "id": "687bfa63-88c5-4b17-bbb9-44ea50eabfad",
        "outputId": "741d6122-7f92-4fe6-d9d3-22853e9309b1"
      },
      "outputs": [
        {
          "name": "stdout",
          "output_type": "stream",
          "text": "Matrix A= [[0, 1, 2, 3], [0, 1, 2, 3], [0, 1, 2, 3]]\n"
        }
      ],
      "execution_count": null
    },
    {
      "id": "a38b6d7a-b965-42b2-b67a-8a3ae35e5641",
      "cell_type": "code",
      "source": [
        "B = [[2,4],[3,9],[10,5],[7,6]]\n",
        "print('Matrix B=',B)"
      ],
      "metadata": {
        "trusted": true,
        "id": "a38b6d7a-b965-42b2-b67a-8a3ae35e5641",
        "outputId": "8f23779c-c8e1-426a-b5ac-d0d918b29b87"
      },
      "outputs": [
        {
          "name": "stdout",
          "output_type": "stream",
          "text": "Matrix B= [[2, 4], [3, 9], [10, 5], [7, 6]]\n"
        }
      ],
      "execution_count": null
    },
    {
      "id": "97781113-6158-4b1c-b84d-cd758b9af06a",
      "cell_type": "code",
      "source": [
        "import time\n",
        "start_time = time.time()\n",
        "C = [[0 for _ in range(2)] for _ in range(3)]\n",
        "\n",
        "for i in range(3):\n",
        "    for j in range(2):\n",
        "        for l in range(4):\n",
        "            C[i][j] += A[i][l]*B[l][j]\n",
        "print(C)\n",
        "end_time = time.time()\n",
        "print(\"Result using pure Python:\")\n",
        "python_time = end_time - start_time\n",
        "print(f\"Pure Python time: {python_time:.6f} seconds\\n\")"
      ],
      "metadata": {
        "trusted": true,
        "id": "97781113-6158-4b1c-b84d-cd758b9af06a",
        "outputId": "5cf88dd1-3169-4748-8e05-009a6532271f"
      },
      "outputs": [
        {
          "name": "stdout",
          "output_type": "stream",
          "text": "[[44, 37], [44, 37], [44, 37]]\nResult using pure Python:\nPure Python time: 0.002000 seconds\n\n"
        }
      ],
      "execution_count": null
    },
    {
      "id": "9542ff76-5183-43eb-8cc5-8a1d2c88d227",
      "cell_type": "code",
      "source": [
        "import numpy as np\n",
        "start_time = time.time()\n",
        "A_np = np.array(A)\n",
        "B_np = np.array(B)\n",
        "\n",
        "C_np = np.dot(A_np,B_np)\n",
        "print(C)\n",
        "end_time = time.time()\n",
        "print(\"Result using NumPy:\")\n",
        "numpy_time = end_time - start_time\n",
        "print(f\"NumPy time: {numpy_time:.6f} seconds\\n\")"
      ],
      "metadata": {
        "trusted": true,
        "id": "9542ff76-5183-43eb-8cc5-8a1d2c88d227",
        "outputId": "0c07db8b-5d2b-414c-ce39-1cecf2b1bedc"
      },
      "outputs": [
        {
          "name": "stdout",
          "output_type": "stream",
          "text": "[[44, 37], [44, 37], [44, 37]]\nResult using NumPy:\nNumPy time: 0.001000 seconds\n\n"
        }
      ],
      "execution_count": null
    },
    {
      "id": "9a457b67-9354-4c95-a538-1653e19dd89b",
      "cell_type": "markdown",
      "source": [
        "# **Question 3:**\n",
        "**Finding the highest element in a list requires one pass of the array. Finding the second highest element requires 2 passes of the the array. Using this method, what is the time complexity of finding the median of the array? Can you suggest a better method? Can you implement both these methods in Python and compare against numpy.median routine in terms of time?**"
      ],
      "metadata": {
        "id": "9a457b67-9354-4c95-a538-1653e19dd89b"
      }
    },
    {
      "id": "4f7dd0f7-655e-4213-a2ef-805f5505d682",
      "cell_type": "markdown",
      "source": [
        "Let's assume we have a array with n elemnets. To find the highest element we need to make one pass through the list which is **O(n)** operation. To find the second highest, we again need to pass the array that is again O(n) operation. To find the median, we will need to do n/2 passes of the array, so O(n) operations are to be repeated n/2 times, that gives us time complexity of **O($n^{2}$)**."
      ],
      "metadata": {
        "id": "4f7dd0f7-655e-4213-a2ef-805f5505d682"
      }
    },
    {
      "id": "c564ccd8-aaa9-4b71-95ca-063844858ab7",
      "cell_type": "code",
      "source": [
        "A = [2, 10, 14, 65, 11,34, 76,2,98,102,64]\n"
      ],
      "metadata": {
        "trusted": true,
        "id": "c564ccd8-aaa9-4b71-95ca-063844858ab7"
      },
      "outputs": [],
      "execution_count": null
    },
    {
      "id": "5733257a-0153-4182-81b5-c0bbd1569688",
      "cell_type": "markdown",
      "source": [
        "# **Question 4:**\n",
        "What is the gradient of the following function with respect to x and y?\n",
        "$$x^2 y + y^3 \\sin(x)$$\n",
        "\n"
      ],
      "metadata": {
        "id": "5733257a-0153-4182-81b5-c0bbd1569688"
      }
    },
    {
      "id": "ef36c905-8ce0-4cba-8ac6-2edd7f8f5f98",
      "cell_type": "markdown",
      "source": [
        "The gradient of a function is a vector consisting of all its partial derivatives with respect to each variable.\n",
        "The gradient is:\n",
        "$$\n",
        "\\nabla f = \\left( \\frac{\\partial f}{\\partial x_1}, \\frac{\\partial f}{\\partial x_2}, \\ldots, \\frac{\\partial f}{\\partial x_n} \\right)\n",
        "$$\n",
        "<br>\n",
        "Our function has two variables x and y.\n",
        "$$\n",
        "f(x, y) = x^2 y + y^3 \\sin(x)\n",
        "$$\n",
        "$$\n",
        "\\frac{\\partial f}{\\partial x} = 2 x y + y^3 \\cos(x)\n",
        "$$\n",
        "$$\n",
        "\\frac{\\partial f}{\\partial y} = x^2 + 3 y^2 \\sin(x)\n",
        "$$\n",
        "The gradient is:\n",
        "$$\n",
        "\\nabla f(x, y) =\n",
        "\\begin{pmatrix}\n",
        "2 x y + y^3 \\cos(x) \\\\\n",
        "x^2 + 3 y^2 \\sin(x)\n",
        "\\end{pmatrix}\n",
        "$$"
      ],
      "metadata": {
        "id": "ef36c905-8ce0-4cba-8ac6-2edd7f8f5f98"
      }
    },
    {
      "id": "d4355aa7-7512-45db-915d-7a2e7e872b4b",
      "cell_type": "markdown",
      "source": [
        "# **Question 5:**\n",
        "Use JAX to confirm the gradient evaluated by your method matches the analytical solution corresponding to a few random values of x and y."
      ],
      "metadata": {
        "id": "d4355aa7-7512-45db-915d-7a2e7e872b4b"
      }
    },
    {
      "id": "7350de7b-895d-4457-bd57-1ff93947bef6",
      "cell_type": "code",
      "source": [
        "import jax\n",
        "import jax.numpy as jnp\n",
        "import numpy as np\n",
        "\n",
        "def f(x, y):\n",
        "    return x**2 * y + y**3 * jnp.sin(x)\n",
        "\n",
        "gred = jax.grad(f, argnums=(0, 1))\n",
        "\n",
        "# New set of test points\n",
        "x_test = [0.0, np.pi/2]\n",
        "y_test = [1.0, -2.5, 0.3]\n",
        "\n",
        "for x in x_test:\n",
        "    for y in y_test:\n",
        "        jax_grad = gred(x, y)  # (df/dx, df/dy) from JAX\n",
        "\n",
        "        df_dx = 2 * x * y + y ** 3 * np.cos(x)\n",
        "        df_dy = x ** 2 + 3 * y ** 2 * np.sin(x)\n",
        "        analytical = (df_dx, df_dy)\n",
        "\n",
        "        print(f\"x={x:7.4f}, y={y:7.4f}\")\n",
        "        print(\"analytical: \", analytical)\n",
        "        print(\"Using jax: \", tuple([float(v) for v in jax_grad]))\n",
        "        print(\"---\")\n",
        "\n",
        "\n"
      ],
      "metadata": {
        "trusted": true,
        "colab": {
          "base_uri": "https://localhost:8080/"
        },
        "id": "7350de7b-895d-4457-bd57-1ff93947bef6",
        "outputId": "2307924e-efa2-40bb-de75-7d1296608096"
      },
      "outputs": [
        {
          "output_type": "stream",
          "name": "stdout",
          "text": [
            "x= 0.0000, y= 1.0000\n",
            "analytical:  (np.float64(1.0), np.float64(0.0))\n",
            "Using jax:  (1.0, 0.0)\n",
            "---\n",
            "x= 0.0000, y=-2.5000\n",
            "analytical:  (np.float64(-15.625), np.float64(0.0))\n",
            "Using jax:  (-15.625, 0.0)\n",
            "---\n",
            "x= 0.0000, y= 0.3000\n",
            "analytical:  (np.float64(0.026999999999999996), np.float64(0.0))\n",
            "Using jax:  (0.027000002562999725, 0.0)\n",
            "---\n",
            "x= 1.5708, y= 1.0000\n",
            "analytical:  (np.float64(3.141592653589793), np.float64(5.4674011002723395))\n",
            "Using jax:  (3.1415927410125732, 5.467401504516602)\n",
            "---\n",
            "x= 1.5708, y=-2.5000\n",
            "analytical:  (np.float64(-7.853981633974484), np.float64(21.21740110027234))\n",
            "Using jax:  (-7.8539814949035645, 21.2174015045166)\n",
            "---\n",
            "x= 1.5708, y= 0.3000\n",
            "analytical:  (np.float64(0.9424777960769379), np.float64(2.7374011002723395))\n",
            "Using jax:  (0.9424778819084167, 2.737401247024536)\n",
            "---\n"
          ]
        }
      ],
      "execution_count": 2
    },
    {
      "cell_type": "markdown",
      "source": [
        "# **Question 6:**\n",
        "Use sympy to confirm that you obtain the same gradient analytically."
      ],
      "metadata": {
        "id": "5ZkpXxHHuYM4"
      },
      "id": "5ZkpXxHHuYM4"
    },
    {
      "id": "0dc56038-5929-4993-9aa1-dbfa779152dd",
      "cell_type": "code",
      "source": [
        "import sympy as sp\n",
        "x, y = sp.symbols('x y', real=True)\n",
        "f = x**2 * y + y**3 * sp.sin(x)\n",
        "df_dx = sp.diff(f, x)\n",
        "df_dy = sp.diff(f, y)\n",
        "gradient = sp.Matrix([df_dx, df_dy])\n",
        "\n",
        "print(\"Function f(x,y):\", f)\n",
        "print(\"∂f/∂x =\", df_dx)\n",
        "print(\"∂f/∂y =\", df_dy)\n",
        "print(\"Gradient vector =\", gradient)"
      ],
      "metadata": {
        "trusted": true,
        "colab": {
          "base_uri": "https://localhost:8080/"
        },
        "id": "0dc56038-5929-4993-9aa1-dbfa779152dd",
        "outputId": "55a40d3e-5e71-442f-daa2-e0061e1d4673"
      },
      "outputs": [
        {
          "output_type": "stream",
          "name": "stdout",
          "text": [
            "Function f(x,y): x**2*y + y**3*sin(x)\n",
            "∂f/∂x = 2*x*y + y**3*cos(x)\n",
            "∂f/∂y = x**2 + 3*y**2*sin(x)\n",
            "Gradient vector = Matrix([[2*x*y + y**3*cos(x)], [x**2 + 3*y**2*sin(x)]])\n"
          ]
        }
      ],
      "execution_count": 3
    },
    {
      "cell_type": "markdown",
      "source": [
        "# **Question 7:**\n",
        "Create a Python nested dictionary to represent hierarchical information. We want to store record of students and their marks. Something like:"
      ],
      "metadata": {
        "id": "1Nu_MQzXused"
      },
      "id": "1Nu_MQzXused"
    },
    {
      "cell_type": "code",
      "source": [
        "year = [2022,2023,2024,2025]\n",
        "branch = ['ME','CS']\n",
        "subject = ['Maths','science']\n",
        "store = {}\n",
        "stop_entry = False\n",
        "for y in year:\n",
        "  if stop_entry:\n",
        "    break\n",
        "  store[y]={}\n",
        "  for b in branch:\n",
        "    store[y][b]={}\n",
        "    roll_input = input(f\"Enter Roll no. for {b} in {y} (or -1 to skip): \")\n",
        "    if roll_input == '-1':\n",
        "          stop_entry = True\n",
        "          break\n",
        "    store[y][b]['roll no.'] = int(roll_input)\n",
        "    store[y][b]['Name'] = input('Name:')\n",
        "    store[y][b]['Marks'] = {}\n",
        "    for s in subject:\n",
        "      mark = int(input(f\"Enter marks for {s}:\"))\n",
        "      store[y][b]['Marks'][s]= mark\n",
        "print(store)\n",
        ""
      ],
      "metadata": {
        "colab": {
          "base_uri": "https://localhost:8080/"
        },
        "id": "v_O2WsHDusEp",
        "outputId": "6e989746-6c18-4a8a-aa4d-4c904858a335"
      },
      "id": "v_O2WsHDusEp",
      "execution_count": 8,
      "outputs": [
        {
          "output_type": "stream",
          "name": "stdout",
          "text": [
            "Enter Roll no. for ME in 2022 (or -1 to skip): 1\n",
            "Name:h\n",
            "Enter marks for Maths:10\n",
            "Enter marks for science:5\n",
            "Enter Roll no. for CS in 2022 (or -1 to skip): 10\n",
            "Name:m\n",
            "Enter marks for Maths:1\n",
            "Enter marks for science:2\n",
            "Enter Roll no. for ME in 2023 (or -1 to skip): 1\n",
            "Name:a\n",
            "Enter marks for Maths:2\n",
            "Enter marks for science:5\n",
            "Enter Roll no. for CS in 2023 (or -1 to skip): 3\n",
            "Name:h\n",
            "Enter marks for Maths:5\n",
            "Enter marks for science:4\n",
            "Enter Roll no. for ME in 2024 (or -1 to skip): 7\n",
            "Name:g\n",
            "Enter marks for Maths:2\n",
            "Enter marks for science:3\n",
            "Enter Roll no. for CS in 2024 (or -1 to skip): 5\n",
            "Name:b\n",
            "Enter marks for Maths:2\n",
            "Enter marks for science:4\n",
            "Enter Roll no. for ME in 2025 (or -1 to skip): 5\n",
            "Name:j\n",
            "Enter marks for Maths:4\n",
            "Enter marks for science:5\n",
            "Enter Roll no. for CS in 2025 (or -1 to skip): 4\n",
            "Name:g\n",
            "Enter marks for Maths:4\n",
            "Enter marks for science:1\n",
            "{2022: {'ME': {'roll no.': 1, 'Name': 'h', 'Marks': {'Maths': 10, 'science': 5}}, 'CS': {'roll no.': 10, 'Name': 'm', 'Marks': {'Maths': 1, 'science': 2}}}, 2023: {'ME': {'roll no.': 1, 'Name': 'a', 'Marks': {'Maths': 2, 'science': 5}}, 'CS': {'roll no.': 3, 'Name': 'h', 'Marks': {'Maths': 5, 'science': 4}}}, 2024: {'ME': {'roll no.': 7, 'Name': 'g', 'Marks': {'Maths': 2, 'science': 3}}, 'CS': {'roll no.': 5, 'Name': 'b', 'Marks': {'Maths': 2, 'science': 4}}}, 2025: {'ME': {'roll no.': 5, 'Name': 'j', 'Marks': {'Maths': 4, 'science': 5}}, 'CS': {'roll no.': 4, 'Name': 'g', 'Marks': {'Maths': 4, 'science': 1}}}}\n"
          ]
        }
      ]
    },
    {
      "cell_type": "markdown",
      "source": [
        "# **Question 8:**\n",
        "Store the same information using Python classes. We have an overall database which is a list of year objects. Each year contains a list of branches. Each branch contains a list of students. Each student has some properties like name, roll number and has marks in some subjects.\n"
      ],
      "metadata": {
        "id": "9hx0wSat3mmK"
      },
      "id": "9hx0wSat3mmK"
    },
    {
      "cell_type": "code",
      "source": [
        "class Student:\n",
        "    def __init__(self, roll_no, name, marks):\n",
        "        self.roll_no = roll_no\n",
        "        self.name = name\n",
        "        self.marks = marks  # e.g., {'Maths': 90, 'English': 99}\n",
        "\n",
        "class Branch:\n",
        "    def __init__(self, name):\n",
        "        self.name = name\n",
        "        self.students = []\n",
        "\n",
        "    def add_student(self, student):\n",
        "        self.students.append(student)\n",
        "\n",
        "class Year:\n",
        "    def __init__(self, year):\n",
        "        self.year = year\n",
        "        self.branches = []\n",
        "\n",
        "    def add_branch(self, branch):\n",
        "        self.branches.append(branch)\n",
        "\n",
        "    def __str__(self):\n",
        "        result = f\"{self.year}\\n\"\n",
        "        for branch in self.branches:\n",
        "            result += f\"  {branch.name}\\n\"\n",
        "            for student in branch.students:\n",
        "                result += f\"    Roll Number: {student.roll_no}, Name: {student.name}\\n\"\n",
        "                for subject, mark in student.marks.items():\n",
        "                    result += f\"      {subject}: {mark}\\n\"\n",
        "        return result\n",
        "\n",
        "data = []\n",
        "stud1 = Student(110, 'Aarav', {'Maths': 85, 'English': 92})\n",
        "stud2 = Student(215, 'Meera', {'Maths': 78, 'English': 88})\n",
        "stud3 = Student(320, 'Kabir', {'Maths': 95, 'English': 81})\n",
        "stud4 = Student(425, 'Ishita', {'Maths': 72, 'English': 90})\n",
        "\n",
        "branch1 = Branch('Branch 1')\n",
        "branch1.add_student(stud1)\n",
        "year1 = Year(2022)\n",
        "year1.add_branch(branch1)\n",
        "data.append(year1)\n",
        "\n",
        "branch2 = Branch('Branch 2')\n",
        "branch2.add_student(stud2)\n",
        "year2 = Year(2023)\n",
        "year2.add_branch(branch2)\n",
        "data.append(year2)\n",
        "\n",
        "branch3 = Branch('Branch 1')\n",
        "branch3.add_student(stud3)\n",
        "year3 = Year(2024)\n",
        "year3.add_branch(branch3)\n",
        "data.append(year3)\n",
        "\n",
        "branch4 = Branch('Branch 2')\n",
        "branch4.add_student(stud4)\n",
        "year4 = Year(2025)\n",
        "year4.add_branch(branch4)\n",
        "data.append(year4)\n",
        "\n",
        "for year in data:\n",
        "    print(year)\n"
      ],
      "metadata": {
        "colab": {
          "base_uri": "https://localhost:8080/"
        },
        "id": "ZtLDcpi60aCM",
        "outputId": "bb428b88-961f-40ef-f210-808bca321d93"
      },
      "id": "ZtLDcpi60aCM",
      "execution_count": 12,
      "outputs": [
        {
          "output_type": "stream",
          "name": "stdout",
          "text": [
            "2022\n",
            "  Branch 1\n",
            "    Roll Number: 110, Name: Aarav\n",
            "      Maths: 85\n",
            "      English: 92\n",
            "\n",
            "2023\n",
            "  Branch 2\n",
            "    Roll Number: 215, Name: Meera\n",
            "      Maths: 78\n",
            "      English: 88\n",
            "\n",
            "2024\n",
            "  Branch 1\n",
            "    Roll Number: 320, Name: Kabir\n",
            "      Maths: 95\n",
            "      English: 81\n",
            "\n",
            "2025\n",
            "  Branch 2\n",
            "    Roll Number: 425, Name: Ishita\n",
            "      Maths: 72\n",
            "      English: 90\n",
            "\n"
          ]
        }
      ]
    },
    {
      "cell_type": "markdown",
      "source": [
        "# **Question 9:**\n",
        "Using matplotlib plot the following functions on the domain: x = 0.5 to 100.0 in steps of 0.5."
      ],
      "metadata": {
        "id": "E-I7akBc4a9Y"
      },
      "id": "E-I7akBc4a9Y"
    },
    {
      "cell_type": "code",
      "source": [
        "import matplotlib.pyplot as plt\n",
        "x = np.arange(0.5, 100, 0.5)\n",
        "y1 = x\n",
        "y2 = x**2\n",
        "y3 = x**3 / 100\n",
        "y4 = np.sin(x)\n",
        "y5 = np.sin(x) / x\n",
        "y6 = np.log(x)\n",
        "y7 = np.exp(x)\n",
        "plt.figure(figsize=(10, 5))\n",
        "\n",
        "plt.plot(x, y1, label='y = x')\n",
        "plt.plot(x, y2, label='y = x^2')\n",
        "plt.plot(x, y3, label='y = x^3/100')\n",
        "plt.plot(x, y4, label='y = sin(x)')\n",
        "plt.plot(x, y5, label='y = sin(x)/x')\n",
        "plt.plot(x, y6, label='y = log(x)')\n",
        "plt.plot(x, y7, label='y = e^x', linestyle='--', alpha=0.7)\n",
        "plt.ylim(-10, 1000)\n",
        "plt.xlim(0, 100)\n",
        "plt.xlabel(\"x\")\n",
        "plt.ylabel(\"y\")\n",
        "plt.title(\"Plots of Various Functions\")\n",
        "plt.legend()\n",
        "plt.grid(True)\n",
        "plt.tight_layout()\n",
        "plt.show()"
      ],
      "metadata": {
        "colab": {
          "base_uri": "https://localhost:8080/",
          "height": 507
        },
        "id": "dqrKok504nWY",
        "outputId": "3da2d808-72b6-4cdb-a035-b86ad853ea2f"
      },
      "id": "dqrKok504nWY",
      "execution_count": 15,
      "outputs": [
        {
          "output_type": "display_data",
          "data": {
            "text/plain": [
              "<Figure size 1000x500 with 1 Axes>"
            ],
            "image/png": "[encoded data removed]"
          },
          "metadata": {}
        }
      ]
    },
    {
      "cell_type": "markdown",
      "source": [
        "# **Question 10:**\n",
        "Using numpy generate a matrix of size 20X5 containing random numbers drawn uniformly from the range of 1 to 2. Using Pandas create a dataframe out of this matrix. Name the columns of the dataframe as “a”, “b”, “c”, “d”, “e”. Find the column with the highest standard deviation. Find the row with the lowest mean."
      ],
      "metadata": {
        "id": "ElE0DRhA5kyQ"
      },
      "id": "ElE0DRhA5kyQ"
    },
    {
      "cell_type": "code",
      "source": [
        "import pandas as pd\n",
        "\n",
        "matrix = 1 + np.random.rand(20, 5)\n",
        "print(matrix)\n",
        "df = pd.DataFrame(matrix, columns=[\"a\", \"b\", \"c\", \"d\", \"e\"])\n",
        "std_col = df.std()\n",
        "col_highest_std = std_col.idxmax()\n",
        "print(f\"Column with highest standard deviation: {col_highest_std} (std = {std_col[col_highest_std]:.4f})\")\n",
        "mean_row = df.mean(axis=1)\n",
        "row_lowest_mean = mean_row.idxmin()\n",
        "print(f\"Row with lowest mean: {row_lowest_mean} (mean = {mean_row[row_lowest_mean]:.4f})\")"
      ],
      "metadata": {
        "colab": {
          "base_uri": "https://localhost:8080/"
        },
        "id": "KJc5h50M4rYS",
        "outputId": "2b0dd241-0d60-4efe-cc50-4b2a2147acc1"
      },
      "id": "KJc5h50M4rYS",
      "execution_count": 20,
      "outputs": [
        {
          "output_type": "stream",
          "name": "stdout",
          "text": [
            "[[1.58450045 1.80575199 1.76616273 1.46269165 1.96702689]\n",
            " [1.9854297  1.75508674 1.3292151  1.73163982 1.36356774]\n",
            " [1.05239299 1.80173665 1.09493153 1.06851606 1.54220231]\n",
            " [1.02847483 1.38745654 1.822374   1.86844258 1.2245929 ]\n",
            " [1.94582189 1.31039501 1.66182116 1.2137199  1.192208  ]\n",
            " [1.11939127 1.80906617 1.41726207 1.44661159 1.40540281]\n",
            " [1.31899744 1.43206563 1.82068569 1.54849105 1.55684751]\n",
            " [1.3146714  1.92047446 1.14783351 1.21194169 1.0887746 ]\n",
            " [1.02828513 1.12580811 1.27356759 1.89149828 1.56177039]\n",
            " [1.40104345 1.51674379 1.08140304 1.28495895 1.57639871]\n",
            " [1.35810211 1.50500257 1.03140991 1.77449298 1.63680185]\n",
            " [1.24431443 1.04240892 1.26375329 1.7285418  1.0650282 ]\n",
            " [1.95581393 1.13649074 1.62470693 1.12833771 1.03525753]\n",
            " [1.26149941 1.714617   1.97572175 1.85969057 1.0386758 ]\n",
            " [1.6697541  1.81901983 1.46055077 1.12244632 1.27110864]\n",
            " [1.67620001 1.45018812 1.46784725 1.82179277 1.09615911]\n",
            " [1.73051451 1.42711116 1.72717227 1.71880094 1.19861409]\n",
            " [1.69557581 1.93648307 1.37137194 1.80333568 1.37866414]\n",
            " [1.90652983 1.5626552  1.92792113 1.43738694 1.90491619]\n",
            " [1.37355046 1.06032012 1.25274876 1.55232065 1.22572339]]\n",
            "Column with highest standard deviation: a (std = 0.3232)\n",
            "Row with lowest mean: 11 (mean = 1.2688)\n"
          ]
        }
      ]
    },
    {
      "cell_type": "markdown",
      "source": [
        "# **Question 11:**\n",
        "Add a new column to the dataframe called “f” which is the sum of the columns “a”, “b”, “c”, “d”, “e”. Create another column called “g”. The value in the column “g” should be “LT8” if the value in the column “f” is less than 8 and “GT8” otherwise. Find the number of rows in the dataframe where the value in the column “g” is “LT8”. Find the standard deviation of the column “f” for the rows where the value in the column “g” is “LT8” and “GT8” respectively."
      ],
      "metadata": {
        "id": "GQa-BhiS8FXq"
      },
      "id": "GQa-BhiS8FXq"
    },
    {
      "cell_type": "code",
      "source": [
        "df['f']=df['a']+df['b']+df['c']+df['d']+df['e']\n",
        "df['g']='LT8'\n",
        "df.loc[df['f']>=8,'g']='GT8'\n",
        "print(df)\n",
        "std_lt8 = df.loc[df['g'] == 'LT8', 'f'].std()\n",
        "std_gt8 = df.loc[df['g'] == 'GT8', 'f'].std()\n",
        "\n",
        "print(f\"Standard deviation of 'f' where g is 'LT8': {std_lt8:.4f}\")\n",
        "print(f\"Standard deviation of 'f' where g is 'GT8': {std_gt8:.4f}\")\n"
      ],
      "metadata": {
        "colab": {
          "base_uri": "https://localhost:8080/"
        },
        "id": "CLLYpGks8MBm",
        "outputId": "33cd317b-f2a3-4f00-9379-9313b55d4dfa"
      },
      "id": "CLLYpGks8MBm",
      "execution_count": 23,
      "outputs": [
        {
          "output_type": "stream",
          "name": "stdout",
          "text": [
            "           a         b         c         d         e         f    g\n",
            "0   1.584500  1.805752  1.766163  1.462692  1.967027  8.586134  GT8\n",
            "1   1.985430  1.755087  1.329215  1.731640  1.363568  8.164939  GT8\n",
            "2   1.052393  1.801737  1.094932  1.068516  1.542202  6.559780  LT8\n",
            "3   1.028475  1.387457  1.822374  1.868443  1.224593  7.331341  LT8\n",
            "4   1.945822  1.310395  1.661821  1.213720  1.192208  7.323966  LT8\n",
            "5   1.119391  1.809066  1.417262  1.446612  1.405403  7.197734  LT8\n",
            "6   1.318997  1.432066  1.820686  1.548491  1.556848  7.677087  LT8\n",
            "7   1.314671  1.920474  1.147834  1.211942  1.088775  6.683696  LT8\n",
            "8   1.028285  1.125808  1.273568  1.891498  1.561770  6.880930  LT8\n",
            "9   1.401043  1.516744  1.081403  1.284959  1.576399  6.860548  LT8\n",
            "10  1.358102  1.505003  1.031410  1.774493  1.636802  7.305809  LT8\n",
            "11  1.244314  1.042409  1.263753  1.728542  1.065028  6.344047  LT8\n",
            "12  1.955814  1.136491  1.624707  1.128338  1.035258  6.880607  LT8\n",
            "13  1.261499  1.714617  1.975722  1.859691  1.038676  7.850205  LT8\n",
            "14  1.669754  1.819020  1.460551  1.122446  1.271109  7.342880  LT8\n",
            "15  1.676200  1.450188  1.467847  1.821793  1.096159  7.512187  LT8\n",
            "16  1.730515  1.427111  1.727172  1.718801  1.198614  7.802213  LT8\n",
            "17  1.695576  1.936483  1.371372  1.803336  1.378664  8.185431  GT8\n",
            "18  1.906530  1.562655  1.927921  1.437387  1.904916  8.739409  GT8\n",
            "19  1.373550  1.060320  1.252749  1.552321  1.225723  6.464663  LT8\n",
            "Standard deviation of 'f' where g is 'LT8': 0.4730\n",
            "Standard deviation of 'f' where g is 'GT8': 0.2885\n"
          ]
        }
      ]
    },
    {
      "cell_type": "markdown",
      "source": [
        "# **Question 12:**\n",
        "Write a small piece of code to explain broadcasting in numpy."
      ],
      "metadata": {
        "id": "WFWOzfto859I"
      },
      "id": "WFWOzfto859I"
    },
    {
      "cell_type": "code",
      "source": [
        "arr1=np.array([4,2,4,11])\n",
        "arr2=np.array([[4],[5],[6]])\n",
        "print(arr1.shape,arr2.shape)\n",
        "print(arr1+arr2)"
      ],
      "metadata": {
        "colab": {
          "base_uri": "https://localhost:8080/"
        },
        "id": "QZKYEj0K8-ND",
        "outputId": "a281899f-af64-4410-ef59-f59cd353336a"
      },
      "id": "QZKYEj0K8-ND",
      "execution_count": 26,
      "outputs": [
        {
          "output_type": "stream",
          "name": "stdout",
          "text": [
            "(4,) (3, 1)\n",
            "[[ 8  6  8 15]\n",
            " [ 9  7  9 16]\n",
            " [10  8 10 17]]\n"
          ]
        }
      ]
    },
    {
      "cell_type": "markdown",
      "source": [
        "# **Question 13:**\n",
        "\n",
        "Write a function to compute the argmin of a numpy array. The function should take a numpy array as input and return the index of the minimum element. You can use the np.argmin function to verify your solution."
      ],
      "metadata": {
        "id": "YphBaF0L98GG"
      },
      "id": "YphBaF0L98GG"
    },
    {
      "cell_type": "code",
      "source": [
        "import numpy as np\n",
        "\n",
        "def f(a):\n",
        "    a = a.flatten()\n",
        "    mindex = 0\n",
        "    mvalue = a[0]\n",
        "    for i in range(1, a.size):\n",
        "        if a[i] < mvalue:\n",
        "            mindex = i\n",
        "            mvalue = a[i]\n",
        "    return mindex\n",
        "\n",
        "arr = np.array([[9, 3, 6, 7],\n",
        "                [1, 4, 7, 9]])\n",
        "\n",
        "min_index = f(arr)\n",
        "print(min_index)\n",
        "\n",
        "x = np.argmin(arr)\n",
        "print(x)\n"
      ],
      "metadata": {
        "colab": {
          "base_uri": "https://localhost:8080/"
        },
        "id": "TccF3o3T-BrM",
        "outputId": "daa25723-94f6-4849-fa6e-3c9e380b955b"
      },
      "id": "TccF3o3T-BrM",
      "execution_count": 27,
      "outputs": [
        {
          "output_type": "stream",
          "name": "stdout",
          "text": [
            "4\n",
            "4\n"
          ]
        }
      ]
    }
  ]
}